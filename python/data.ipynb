{
 "cells": [
  {
   "cell_type": "code",
   "execution_count": 4,
   "metadata": {},
   "outputs": [],
   "source": [
    "import pandas as pd\n",
    "\n",
    "disease_data = {\n",
    "    'id': [1, 2, 3, 4, 5, 6, 7, 8, 9, 10],\n",
    "    'name': [\"John Doe\", \"Jane Smith\", \"Michael Brown\", \"Sara White\", \"David Lee\", \"Emily Clark\", \"Chris Turner\", \"Nancy Wright\", \"Andrew Hill\", \"Jessica Green\"],\n",
    "    'age': [34, 28, 45, 50, 36, 29, 41, 33, 47, 39],\n",
    "    'gender': [\"M\", \"F\", \"M\", \"F\", \"M\", \"F\", \"M\", \"F\", \"M\", \"F\"],\n",
    "    'disease': [\"Diabetes\", \"Hypertension\", \"Asthma\", \"COPD\", \"Arthritis\", \"Heart Disease\", \"Stroke\", \"Cancer\", \"Obesity\", \"Kidney Disease\"],\n",
    "    'severity': [\"Moderate\", \"Mild\", \"Severe\", \"Moderate\", \"Mild\", \"Severe\", \"Moderate\", \"Mild\", \"Severe\", \"Moderate\"],\n",
    "    'treatment_plan': [\"Insulin\", \"Lifestyle Change\", \"Inhaler\", \"Medication\", \"Physical Therapy\", \"Surgery\", \"Rehabilitation\", \"Chemotherapy\", \"Diet Plan\", \"Dialysis\"],\n",
    "    'doctor_assigned': [\"Dr. Patel\", \"Dr. Johnson\", \"Dr. Smith\", \"Dr. Gupta\", \"Dr. Brown\", \"Dr. Clark\", \"Dr. Lee\", \"Dr. Turner\", \"Dr. Wright\", \"Dr. Green\"],\n",
    "    'admission_date': [\"2023-01-15\", \"2023-02-20\", \"2023-03-10\", \"2023-04-05\", \"2023-05-18\", \"2023-06-22\", \"2023-07-30\", \"2023-08-14\", \"2023-09-25\", \"2023-10-31\"],\n",
    "    'discharge_date': [\"2023-01-25\", \"2023-02-28\", \"2023-03-20\", \"2023-04-12\", \"2023-05-25\", \"2023-06-30\", \"2023-08-05\", \"2023-08-24\", \"2023-10-05\", \"2023-11-10\"]\n",
    "}\n",
    "\n",
    "disease_df = pd.DataFrame(disease_data)"
   ]
  },
  {
   "cell_type": "code",
   "execution_count": 1,
   "metadata": {},
   "outputs": [],
   "source": [
    "import matplotlib.pyplot as plt"
   ]
  },
  {
   "cell_type": "code",
   "execution_count": null,
   "metadata": {},
   "outputs": [],
   "source": [
    "plt.figure(figsize=(10, 6)) \n",
    "disease_counts = disease_df['disease'].value_counts() \n",
    "disease_counts.plot(kind='bar', color='skyblue') \n",
    "\n",
    "plt.title('Disease Count') \n",
    "plt.xlabel('Disease') \n",
    "plt.ylabel('Count') \n",
    "plt.xticks(rotation=45) \n",
    "plt.grid(axis='y')\n",
    "plt.tight_layout()\n",
    "plt.show()"
   ]
  },
  {
   "cell_type": "code",
   "execution_count": 6,
   "metadata": {},
   "outputs": [],
   "source": [
    "# Mapping severity to numeric values for scatter plot \n",
    "severity_mapping = {\"Mild\": 1, \"Moderate\": 2, \"Severe\": 3} \n",
    "disease_df['severity_numeric'] = disease_df['severity'].map(severity_mapping)"
   ]
  },
  {
   "cell_type": "markdown",
   "metadata": {},
   "source": [
    "HANDLING THE 0 , NaN and EMPTY"
   ]
  },
  {
   "cell_type": "code",
   "execution_count": 17,
   "metadata": {},
   "outputs": [
    {
     "data": {
      "text/html": [
       "<div>\n",
       "<style scoped>\n",
       "    .dataframe tbody tr th:only-of-type {\n",
       "        vertical-align: middle;\n",
       "    }\n",
       "\n",
       "    .dataframe tbody tr th {\n",
       "        vertical-align: top;\n",
       "    }\n",
       "\n",
       "    .dataframe thead th {\n",
       "        text-align: right;\n",
       "    }\n",
       "</style>\n",
       "<table border=\"1\" class=\"dataframe\">\n",
       "  <thead>\n",
       "    <tr style=\"text-align: right;\">\n",
       "      <th></th>\n",
       "      <th>Name</th>\n",
       "      <th>Salary</th>\n",
       "    </tr>\n",
       "  </thead>\n",
       "  <tbody>\n",
       "    <tr>\n",
       "      <th>0</th>\n",
       "      <td>Alice</td>\n",
       "      <td>50000.0</td>\n",
       "    </tr>\n",
       "    <tr>\n",
       "      <th>1</th>\n",
       "      <td>Bob</td>\n",
       "      <td>0.0</td>\n",
       "    </tr>\n",
       "    <tr>\n",
       "      <th>2</th>\n",
       "      <td>Charlie</td>\n",
       "      <td>NaN</td>\n",
       "    </tr>\n",
       "    <tr>\n",
       "      <th>3</th>\n",
       "      <td>David</td>\n",
       "      <td>30000.0</td>\n",
       "    </tr>\n",
       "  </tbody>\n",
       "</table>\n",
       "</div>"
      ],
      "text/plain": [
       "      Name   Salary\n",
       "0    Alice  50000.0\n",
       "1      Bob      0.0\n",
       "2  Charlie      NaN\n",
       "3    David  30000.0"
      ]
     },
     "execution_count": 17,
     "metadata": {},
     "output_type": "execute_result"
    }
   ],
   "source": [
    "import pandas as pd\n",
    "import numpy as np\n",
    "\n",
    "# Example DataFrame\n",
    "data = {'Name': ['Alice', 'Bob', 'Charlie', 'David'],\n",
    "        'Salary': [50000, 0, np.nan, 30000]}\n",
    "df = pd.DataFrame(data)\n",
    "\n",
    "df"
   ]
  },
  {
   "cell_type": "code",
   "execution_count": 18,
   "metadata": {},
   "outputs": [
    {
     "name": "stdout",
     "output_type": "stream",
     "text": [
      "      Name  Salary\n",
      "2  Charlie     NaN\n",
      "  Name  Salary\n",
      "1  Bob     0.0\n"
     ]
    }
   ],
   "source": [
    "# Identify problematic rows\n",
    "print(df[df['Salary'].isnull()])  # Check for NaN\n",
    "print(df[df['Salary'] == 0])      # Check for zeros"
   ]
  },
  {
   "cell_type": "code",
   "execution_count": 19,
   "metadata": {},
   "outputs": [],
   "source": [
    "# Replace NaN and 0 with \"TBD\"\n",
    "df['Salary'] = df['Salary'].replace(0, np.nan)  # Treat 0 as NaN\n",
    "df['Salary'] = df['Salary'].fillna(\"TBD\")      # Replace NaN with \"TBD\""
   ]
  },
  {
   "cell_type": "code",
   "execution_count": 20,
   "metadata": {},
   "outputs": [
    {
     "data": {
      "text/html": [
       "<div>\n",
       "<style scoped>\n",
       "    .dataframe tbody tr th:only-of-type {\n",
       "        vertical-align: middle;\n",
       "    }\n",
       "\n",
       "    .dataframe tbody tr th {\n",
       "        vertical-align: top;\n",
       "    }\n",
       "\n",
       "    .dataframe thead th {\n",
       "        text-align: right;\n",
       "    }\n",
       "</style>\n",
       "<table border=\"1\" class=\"dataframe\">\n",
       "  <thead>\n",
       "    <tr style=\"text-align: right;\">\n",
       "      <th></th>\n",
       "      <th>Name</th>\n",
       "      <th>Salary</th>\n",
       "    </tr>\n",
       "  </thead>\n",
       "  <tbody>\n",
       "    <tr>\n",
       "      <th>0</th>\n",
       "      <td>Alice</td>\n",
       "      <td>50000.0</td>\n",
       "    </tr>\n",
       "    <tr>\n",
       "      <th>1</th>\n",
       "      <td>Bob</td>\n",
       "      <td>TBD</td>\n",
       "    </tr>\n",
       "    <tr>\n",
       "      <th>2</th>\n",
       "      <td>Charlie</td>\n",
       "      <td>TBD</td>\n",
       "    </tr>\n",
       "    <tr>\n",
       "      <th>3</th>\n",
       "      <td>David</td>\n",
       "      <td>30000.0</td>\n",
       "    </tr>\n",
       "  </tbody>\n",
       "</table>\n",
       "</div>"
      ],
      "text/plain": [
       "      Name   Salary\n",
       "0    Alice  50000.0\n",
       "1      Bob      TBD\n",
       "2  Charlie      TBD\n",
       "3    David  30000.0"
      ]
     },
     "execution_count": 20,
     "metadata": {},
     "output_type": "execute_result"
    }
   ],
   "source": [
    "df"
   ]
  },
  {
   "cell_type": "code",
   "execution_count": 22,
   "metadata": {},
   "outputs": [
    {
     "name": "stdout",
     "output_type": "stream",
     "text": [
      "40000.0\n"
     ]
    }
   ],
   "source": [
    "df['Salary'] = pd.to_numeric(df['Salary'], errors='coerce')  # Convert non-numeric to NaN\n",
    "current_avg_salary = df['Salary'].mean()  # Calculate mean of numeric values\n",
    "print(current_avg_salary)"
   ]
  },
  {
   "cell_type": "code",
   "execution_count": 23,
   "metadata": {},
   "outputs": [],
   "source": [
    "num_tbd = df['Salary'].isnull().sum()"
   ]
  },
  {
   "cell_type": "code",
   "execution_count": null,
   "metadata": {},
   "outputs": [
    {
     "name": "stdout",
     "output_type": "stream",
     "text": [
      "2\n"
     ]
    }
   ],
   "source": [
    "print(num_tbd)"
   ]
  },
  {
   "cell_type": "code",
   "execution_count": 25,
   "metadata": {},
   "outputs": [],
   "source": [
    "unique_salaries = np.random.choice(range(30000, 60000), size=num_tbd, replace=False)"
   ]
  },
  {
   "cell_type": "code",
   "execution_count": 26,
   "metadata": {},
   "outputs": [],
   "source": [
    "df.loc[df['Salary'].isnull(), 'Salary'] = unique_salaries"
   ]
  },
  {
   "cell_type": "code",
   "execution_count": 27,
   "metadata": {},
   "outputs": [
    {
     "data": {
      "text/html": [
       "<div>\n",
       "<style scoped>\n",
       "    .dataframe tbody tr th:only-of-type {\n",
       "        vertical-align: middle;\n",
       "    }\n",
       "\n",
       "    .dataframe tbody tr th {\n",
       "        vertical-align: top;\n",
       "    }\n",
       "\n",
       "    .dataframe thead th {\n",
       "        text-align: right;\n",
       "    }\n",
       "</style>\n",
       "<table border=\"1\" class=\"dataframe\">\n",
       "  <thead>\n",
       "    <tr style=\"text-align: right;\">\n",
       "      <th></th>\n",
       "      <th>Name</th>\n",
       "      <th>Salary</th>\n",
       "    </tr>\n",
       "  </thead>\n",
       "  <tbody>\n",
       "    <tr>\n",
       "      <th>0</th>\n",
       "      <td>Alice</td>\n",
       "      <td>50000.0</td>\n",
       "    </tr>\n",
       "    <tr>\n",
       "      <th>1</th>\n",
       "      <td>Bob</td>\n",
       "      <td>50434.0</td>\n",
       "    </tr>\n",
       "    <tr>\n",
       "      <th>2</th>\n",
       "      <td>Charlie</td>\n",
       "      <td>56183.0</td>\n",
       "    </tr>\n",
       "    <tr>\n",
       "      <th>3</th>\n",
       "      <td>David</td>\n",
       "      <td>30000.0</td>\n",
       "    </tr>\n",
       "  </tbody>\n",
       "</table>\n",
       "</div>"
      ],
      "text/plain": [
       "      Name   Salary\n",
       "0    Alice  50000.0\n",
       "1      Bob  50434.0\n",
       "2  Charlie  56183.0\n",
       "3    David  30000.0"
      ]
     },
     "execution_count": 27,
     "metadata": {},
     "output_type": "execute_result"
    }
   ],
   "source": [
    "df"
   ]
  },
  {
   "cell_type": "code",
   "execution_count": 28,
   "metadata": {},
   "outputs": [
    {
     "name": "stdout",
     "output_type": "stream",
     "text": [
      "46654.25\n"
     ]
    }
   ],
   "source": [
    "post_avg_salary = df['Salary'].mean()\n",
    "print(post_avg_salary)"
   ]
  },
  {
   "cell_type": "code",
   "execution_count": null,
   "metadata": {},
   "outputs": [
    {
     "data": {
      "text/html": [
       "<div>\n",
       "<style scoped>\n",
       "    .dataframe tbody tr th:only-of-type {\n",
       "        vertical-align: middle;\n",
       "    }\n",
       "\n",
       "    .dataframe tbody tr th {\n",
       "        vertical-align: top;\n",
       "    }\n",
       "\n",
       "    .dataframe thead th {\n",
       "        text-align: right;\n",
       "    }\n",
       "</style>\n",
       "<table border=\"1\" class=\"dataframe\">\n",
       "  <thead>\n",
       "    <tr style=\"text-align: right;\">\n",
       "      <th></th>\n",
       "      <th>reg_id</th>\n",
       "      <th>name</th>\n",
       "      <th>salary</th>\n",
       "      <th>position</th>\n",
       "    </tr>\n",
       "  </thead>\n",
       "  <tbody>\n",
       "    <tr>\n",
       "      <th>0</th>\n",
       "      <td>100</td>\n",
       "      <td>Sankalpa</td>\n",
       "      <td>22000</td>\n",
       "      <td>HOD</td>\n",
       "    </tr>\n",
       "    <tr>\n",
       "      <th>1</th>\n",
       "      <td>101</td>\n",
       "      <td>Shristi</td>\n",
       "      <td>20000</td>\n",
       "      <td>Sub HOD</td>\n",
       "    </tr>\n",
       "    <tr>\n",
       "      <th>2</th>\n",
       "      <td>102</td>\n",
       "      <td>Virat</td>\n",
       "      <td>2000</td>\n",
       "      <td>Manager</td>\n",
       "    </tr>\n",
       "    <tr>\n",
       "      <th>3</th>\n",
       "      <td>103</td>\n",
       "      <td>Rohit</td>\n",
       "      <td>5000</td>\n",
       "      <td>Manager</td>\n",
       "    </tr>\n",
       "    <tr>\n",
       "      <th>4</th>\n",
       "      <td>104</td>\n",
       "      <td>Samark</td>\n",
       "      <td>5000</td>\n",
       "      <td>Manager</td>\n",
       "    </tr>\n",
       "  </tbody>\n",
       "</table>\n",
       "</div>"
      ],
      "text/plain": [
       "   reg_id      name  salary position\n",
       "0     100  Sankalpa   22000      HOD\n",
       "1     101   Shristi   20000  Sub HOD\n",
       "2     102     Virat    2000  Manager\n",
       "3     103     Rohit    5000  Manager\n",
       "4     104    Samark    5000  Manager"
      ]
     },
     "execution_count": 3,
     "metadata": {},
     "output_type": "execute_result"
    }
   ],
   "source": [
    "import pandas as pd\n",
    "import numpy as np\n",
    "\n",
    "# Employee Dataset\n",
    "\n",
    "Employees = {\n",
    "    \"reg_id\": [100 , 101, 102, 103, 104, 105, 106, 107, 108, 109],\n",
    "    \"name\" : [ \"Sankalpa\", \"Shristi\", \"Virat\", \"Rohit\", \"Samark\", \"Shreyas\", \"Guras\", \"Paras\",\"Pramesh\", \"Mohit\"],\n",
    "    \"salary\" :[22000, 20000, 2000, 5000, 5000, 5000, 5000, 15000, 5000, 5000],\n",
    "    \"position\" :[\"HOD\", \"Sub HOD\", \"Manager\", \"Manager\", \"Manager\", \"Receptionist\" ,\"Accountant\", \"salesman\", \"salesman\", \"salesman\"],\n",
    "}\n",
    "\n",
    "employee_df = pd.DataFrame(Employees)\n",
    "employee_df.head()"
   ]
  },
  {
   "cell_type": "code",
   "execution_count": 7,
   "metadata": {},
   "outputs": [
    {
     "name": "stdout",
     "output_type": "stream",
     "text": [
      "0    264000\n",
      "1    240000\n",
      "2     24000\n",
      "3     60000\n",
      "4     60000\n",
      "5     60000\n",
      "6     60000\n",
      "7    180000\n",
      "8     60000\n",
      "9     60000\n",
      "Name: salary, dtype: int64\n"
     ]
    }
   ],
   "source": [
    "annual_salary = employee_df['salary']*12\n",
    "print(annual_salary)"
   ]
  },
  {
   "cell_type": "code",
   "execution_count": 13,
   "metadata": {},
   "outputs": [
    {
     "data": {
      "text/html": [
       "<div>\n",
       "<style scoped>\n",
       "    .dataframe tbody tr th:only-of-type {\n",
       "        vertical-align: middle;\n",
       "    }\n",
       "\n",
       "    .dataframe tbody tr th {\n",
       "        vertical-align: top;\n",
       "    }\n",
       "\n",
       "    .dataframe thead th {\n",
       "        text-align: right;\n",
       "    }\n",
       "</style>\n",
       "<table border=\"1\" class=\"dataframe\">\n",
       "  <thead>\n",
       "    <tr style=\"text-align: right;\">\n",
       "      <th></th>\n",
       "      <th>reg_id</th>\n",
       "      <th>name</th>\n",
       "      <th>salary</th>\n",
       "      <th>position</th>\n",
       "      <th>annual_salary</th>\n",
       "    </tr>\n",
       "  </thead>\n",
       "  <tbody>\n",
       "    <tr>\n",
       "      <th>0</th>\n",
       "      <td>100</td>\n",
       "      <td>Sankalpa</td>\n",
       "      <td>22000</td>\n",
       "      <td>HOD</td>\n",
       "      <td>264000</td>\n",
       "    </tr>\n",
       "    <tr>\n",
       "      <th>1</th>\n",
       "      <td>101</td>\n",
       "      <td>Shristi</td>\n",
       "      <td>20000</td>\n",
       "      <td>Sub HOD</td>\n",
       "      <td>240000</td>\n",
       "    </tr>\n",
       "    <tr>\n",
       "      <th>2</th>\n",
       "      <td>102</td>\n",
       "      <td>Virat</td>\n",
       "      <td>2000</td>\n",
       "      <td>Manager</td>\n",
       "      <td>24000</td>\n",
       "    </tr>\n",
       "    <tr>\n",
       "      <th>3</th>\n",
       "      <td>103</td>\n",
       "      <td>Rohit</td>\n",
       "      <td>5000</td>\n",
       "      <td>Manager</td>\n",
       "      <td>60000</td>\n",
       "    </tr>\n",
       "    <tr>\n",
       "      <th>4</th>\n",
       "      <td>104</td>\n",
       "      <td>Samark</td>\n",
       "      <td>5000</td>\n",
       "      <td>Manager</td>\n",
       "      <td>60000</td>\n",
       "    </tr>\n",
       "  </tbody>\n",
       "</table>\n",
       "</div>"
      ],
      "text/plain": [
       "   reg_id      name  salary position  annual_salary\n",
       "0     100  Sankalpa   22000      HOD         264000\n",
       "1     101   Shristi   20000  Sub HOD         240000\n",
       "2     102     Virat    2000  Manager          24000\n",
       "3     103     Rohit    5000  Manager          60000\n",
       "4     104    Samark    5000  Manager          60000"
      ]
     },
     "execution_count": 13,
     "metadata": {},
     "output_type": "execute_result"
    }
   ],
   "source": [
    "df_after_annual_salary = employee_df.copy()\n",
    "df_after_annual_salary['annual_salary'] = annual_salary\n",
    "df_after_annual_salary.head()"
   ]
  },
  {
   "cell_type": "code",
   "execution_count": 14,
   "metadata": {},
   "outputs": [
    {
     "data": {
      "text/html": [
       "<div>\n",
       "<style scoped>\n",
       "    .dataframe tbody tr th:only-of-type {\n",
       "        vertical-align: middle;\n",
       "    }\n",
       "\n",
       "    .dataframe tbody tr th {\n",
       "        vertical-align: top;\n",
       "    }\n",
       "\n",
       "    .dataframe thead th {\n",
       "        text-align: right;\n",
       "    }\n",
       "</style>\n",
       "<table border=\"1\" class=\"dataframe\">\n",
       "  <thead>\n",
       "    <tr style=\"text-align: right;\">\n",
       "      <th></th>\n",
       "      <th>reg_id</th>\n",
       "      <th>name</th>\n",
       "      <th>salary</th>\n",
       "      <th>position</th>\n",
       "      <th>annual_salary</th>\n",
       "    </tr>\n",
       "  </thead>\n",
       "  <tbody>\n",
       "    <tr>\n",
       "      <th>2</th>\n",
       "      <td>102</td>\n",
       "      <td>Virat</td>\n",
       "      <td>2000</td>\n",
       "      <td>Manager</td>\n",
       "      <td>24000</td>\n",
       "    </tr>\n",
       "    <tr>\n",
       "      <th>3</th>\n",
       "      <td>103</td>\n",
       "      <td>Rohit</td>\n",
       "      <td>5000</td>\n",
       "      <td>Manager</td>\n",
       "      <td>60000</td>\n",
       "    </tr>\n",
       "    <tr>\n",
       "      <th>4</th>\n",
       "      <td>104</td>\n",
       "      <td>Samark</td>\n",
       "      <td>5000</td>\n",
       "      <td>Manager</td>\n",
       "      <td>60000</td>\n",
       "    </tr>\n",
       "  </tbody>\n",
       "</table>\n",
       "</div>"
      ],
      "text/plain": [
       "   reg_id    name  salary position  annual_salary\n",
       "2     102   Virat    2000  Manager          24000\n",
       "3     103   Rohit    5000  Manager          60000\n",
       "4     104  Samark    5000  Manager          60000"
      ]
     },
     "execution_count": 14,
     "metadata": {},
     "output_type": "execute_result"
    }
   ],
   "source": [
    "manager_list = df_after_annual_salary[df_after_annual_salary['position'] == 'Manager']\n",
    "manager_list"
   ]
  },
  {
   "cell_type": "code",
   "execution_count": 15,
   "metadata": {},
   "outputs": [
    {
     "data": {
      "text/plain": [
       "0    2860.0\n",
       "1    2600.0\n",
       "2     260.0\n",
       "3     650.0\n",
       "4     650.0\n",
       "5     650.0\n",
       "6     650.0\n",
       "7    1950.0\n",
       "8     650.0\n",
       "9     650.0\n",
       "Name: salary, dtype: float64"
      ]
     },
     "execution_count": 15,
     "metadata": {},
     "output_type": "execute_result"
    }
   ],
   "source": [
    "tax = (13/100)*df_after_annual_salary['salary']\n",
    "tax"
   ]
  },
  {
   "cell_type": "code",
   "execution_count": 16,
   "metadata": {},
   "outputs": [
    {
     "data": {
      "text/html": [
       "<div>\n",
       "<style scoped>\n",
       "    .dataframe tbody tr th:only-of-type {\n",
       "        vertical-align: middle;\n",
       "    }\n",
       "\n",
       "    .dataframe tbody tr th {\n",
       "        vertical-align: top;\n",
       "    }\n",
       "\n",
       "    .dataframe thead th {\n",
       "        text-align: right;\n",
       "    }\n",
       "</style>\n",
       "<table border=\"1\" class=\"dataframe\">\n",
       "  <thead>\n",
       "    <tr style=\"text-align: right;\">\n",
       "      <th></th>\n",
       "      <th>reg_id</th>\n",
       "      <th>name</th>\n",
       "      <th>salary</th>\n",
       "      <th>position</th>\n",
       "      <th>annual_salary</th>\n",
       "      <th>tax amount</th>\n",
       "    </tr>\n",
       "  </thead>\n",
       "  <tbody>\n",
       "    <tr>\n",
       "      <th>0</th>\n",
       "      <td>100</td>\n",
       "      <td>Sankalpa</td>\n",
       "      <td>22000</td>\n",
       "      <td>HOD</td>\n",
       "      <td>264000</td>\n",
       "      <td>2860.0</td>\n",
       "    </tr>\n",
       "    <tr>\n",
       "      <th>1</th>\n",
       "      <td>101</td>\n",
       "      <td>Shristi</td>\n",
       "      <td>20000</td>\n",
       "      <td>Sub HOD</td>\n",
       "      <td>240000</td>\n",
       "      <td>2600.0</td>\n",
       "    </tr>\n",
       "    <tr>\n",
       "      <th>2</th>\n",
       "      <td>102</td>\n",
       "      <td>Virat</td>\n",
       "      <td>2000</td>\n",
       "      <td>Manager</td>\n",
       "      <td>24000</td>\n",
       "      <td>260.0</td>\n",
       "    </tr>\n",
       "    <tr>\n",
       "      <th>3</th>\n",
       "      <td>103</td>\n",
       "      <td>Rohit</td>\n",
       "      <td>5000</td>\n",
       "      <td>Manager</td>\n",
       "      <td>60000</td>\n",
       "      <td>650.0</td>\n",
       "    </tr>\n",
       "    <tr>\n",
       "      <th>4</th>\n",
       "      <td>104</td>\n",
       "      <td>Samark</td>\n",
       "      <td>5000</td>\n",
       "      <td>Manager</td>\n",
       "      <td>60000</td>\n",
       "      <td>650.0</td>\n",
       "    </tr>\n",
       "  </tbody>\n",
       "</table>\n",
       "</div>"
      ],
      "text/plain": [
       "   reg_id      name  salary position  annual_salary  tax amount\n",
       "0     100  Sankalpa   22000      HOD         264000      2860.0\n",
       "1     101   Shristi   20000  Sub HOD         240000      2600.0\n",
       "2     102     Virat    2000  Manager          24000       260.0\n",
       "3     103     Rohit    5000  Manager          60000       650.0\n",
       "4     104    Samark    5000  Manager          60000       650.0"
      ]
     },
     "execution_count": 16,
     "metadata": {},
     "output_type": "execute_result"
    }
   ],
   "source": [
    "df_after_tax = df_after_annual_salary.copy()\n",
    "df_after_tax['tax amount'] = tax\n",
    "df_after_tax.head()"
   ]
  },
  {
   "cell_type": "code",
   "execution_count": 17,
   "metadata": {},
   "outputs": [
    {
     "data": {
      "text/html": [
       "<div>\n",
       "<style scoped>\n",
       "    .dataframe tbody tr th:only-of-type {\n",
       "        vertical-align: middle;\n",
       "    }\n",
       "\n",
       "    .dataframe tbody tr th {\n",
       "        vertical-align: top;\n",
       "    }\n",
       "\n",
       "    .dataframe thead th {\n",
       "        text-align: right;\n",
       "    }\n",
       "</style>\n",
       "<table border=\"1\" class=\"dataframe\">\n",
       "  <thead>\n",
       "    <tr style=\"text-align: right;\">\n",
       "      <th></th>\n",
       "      <th>reg_id</th>\n",
       "      <th>name</th>\n",
       "      <th>salary</th>\n",
       "      <th>position</th>\n",
       "      <th>annual_salary</th>\n",
       "      <th>tax amount</th>\n",
       "      <th>salary amount</th>\n",
       "    </tr>\n",
       "  </thead>\n",
       "  <tbody>\n",
       "    <tr>\n",
       "      <th>0</th>\n",
       "      <td>100</td>\n",
       "      <td>Sankalpa</td>\n",
       "      <td>22000</td>\n",
       "      <td>HOD</td>\n",
       "      <td>264000</td>\n",
       "      <td>2860.0</td>\n",
       "      <td>261140.0</td>\n",
       "    </tr>\n",
       "    <tr>\n",
       "      <th>1</th>\n",
       "      <td>101</td>\n",
       "      <td>Shristi</td>\n",
       "      <td>20000</td>\n",
       "      <td>Sub HOD</td>\n",
       "      <td>240000</td>\n",
       "      <td>2600.0</td>\n",
       "      <td>237400.0</td>\n",
       "    </tr>\n",
       "    <tr>\n",
       "      <th>2</th>\n",
       "      <td>102</td>\n",
       "      <td>Virat</td>\n",
       "      <td>2000</td>\n",
       "      <td>Manager</td>\n",
       "      <td>24000</td>\n",
       "      <td>260.0</td>\n",
       "      <td>23740.0</td>\n",
       "    </tr>\n",
       "    <tr>\n",
       "      <th>3</th>\n",
       "      <td>103</td>\n",
       "      <td>Rohit</td>\n",
       "      <td>5000</td>\n",
       "      <td>Manager</td>\n",
       "      <td>60000</td>\n",
       "      <td>650.0</td>\n",
       "      <td>59350.0</td>\n",
       "    </tr>\n",
       "    <tr>\n",
       "      <th>4</th>\n",
       "      <td>104</td>\n",
       "      <td>Samark</td>\n",
       "      <td>5000</td>\n",
       "      <td>Manager</td>\n",
       "      <td>60000</td>\n",
       "      <td>650.0</td>\n",
       "      <td>59350.0</td>\n",
       "    </tr>\n",
       "    <tr>\n",
       "      <th>5</th>\n",
       "      <td>105</td>\n",
       "      <td>Shreyas</td>\n",
       "      <td>5000</td>\n",
       "      <td>Receptionist</td>\n",
       "      <td>60000</td>\n",
       "      <td>650.0</td>\n",
       "      <td>59350.0</td>\n",
       "    </tr>\n",
       "    <tr>\n",
       "      <th>6</th>\n",
       "      <td>106</td>\n",
       "      <td>Guras</td>\n",
       "      <td>5000</td>\n",
       "      <td>Accountant</td>\n",
       "      <td>60000</td>\n",
       "      <td>650.0</td>\n",
       "      <td>59350.0</td>\n",
       "    </tr>\n",
       "    <tr>\n",
       "      <th>7</th>\n",
       "      <td>107</td>\n",
       "      <td>Paras</td>\n",
       "      <td>15000</td>\n",
       "      <td>salesman</td>\n",
       "      <td>180000</td>\n",
       "      <td>1950.0</td>\n",
       "      <td>178050.0</td>\n",
       "    </tr>\n",
       "    <tr>\n",
       "      <th>8</th>\n",
       "      <td>108</td>\n",
       "      <td>Pramesh</td>\n",
       "      <td>5000</td>\n",
       "      <td>salesman</td>\n",
       "      <td>60000</td>\n",
       "      <td>650.0</td>\n",
       "      <td>59350.0</td>\n",
       "    </tr>\n",
       "    <tr>\n",
       "      <th>9</th>\n",
       "      <td>109</td>\n",
       "      <td>Mohit</td>\n",
       "      <td>5000</td>\n",
       "      <td>salesman</td>\n",
       "      <td>60000</td>\n",
       "      <td>650.0</td>\n",
       "      <td>59350.0</td>\n",
       "    </tr>\n",
       "  </tbody>\n",
       "</table>\n",
       "</div>"
      ],
      "text/plain": [
       "   reg_id      name  salary      position  annual_salary  tax amount  \\\n",
       "0     100  Sankalpa   22000           HOD         264000      2860.0   \n",
       "1     101   Shristi   20000       Sub HOD         240000      2600.0   \n",
       "2     102     Virat    2000       Manager          24000       260.0   \n",
       "3     103     Rohit    5000       Manager          60000       650.0   \n",
       "4     104    Samark    5000       Manager          60000       650.0   \n",
       "5     105   Shreyas    5000  Receptionist          60000       650.0   \n",
       "6     106     Guras    5000    Accountant          60000       650.0   \n",
       "7     107     Paras   15000      salesman         180000      1950.0   \n",
       "8     108   Pramesh    5000      salesman          60000       650.0   \n",
       "9     109     Mohit    5000      salesman          60000       650.0   \n",
       "\n",
       "   salary amount  \n",
       "0       261140.0  \n",
       "1       237400.0  \n",
       "2        23740.0  \n",
       "3        59350.0  \n",
       "4        59350.0  \n",
       "5        59350.0  \n",
       "6        59350.0  \n",
       "7       178050.0  \n",
       "8        59350.0  \n",
       "9        59350.0  "
      ]
     },
     "execution_count": 17,
     "metadata": {},
     "output_type": "execute_result"
    }
   ],
   "source": [
    "real_salary= annual_salary - tax\n",
    "\n",
    "real_salary_df =df_after_tax.copy()\n",
    "real_salary_df['salary amount'] = real_salary\n",
    "real_salary_df"
   ]
  },
  {
   "cell_type": "code",
   "execution_count": 18,
   "metadata": {},
   "outputs": [
    {
     "name": "stdout",
     "output_type": "stream",
     "text": [
      "0    292540.0\n",
      "1    266400.0\n",
      "2     31140.0\n",
      "3     70350.0\n",
      "4     70350.0\n",
      "5     70350.0\n",
      "6     70350.0\n",
      "7    201050.0\n",
      "8     70350.0\n",
      "9     70350.0\n",
      "Name: salary, dtype: float64\n"
     ]
    }
   ],
   "source": [
    "incresed_salary = real_salary + 5000 + ((10/100)*annual_salary) \n",
    "print(incresed_salary)"
   ]
  },
  {
   "cell_type": "code",
   "execution_count": 19,
   "metadata": {},
   "outputs": [
    {
     "data": {
      "text/html": [
       "<div>\n",
       "<style scoped>\n",
       "    .dataframe tbody tr th:only-of-type {\n",
       "        vertical-align: middle;\n",
       "    }\n",
       "\n",
       "    .dataframe tbody tr th {\n",
       "        vertical-align: top;\n",
       "    }\n",
       "\n",
       "    .dataframe thead th {\n",
       "        text-align: right;\n",
       "    }\n",
       "</style>\n",
       "<table border=\"1\" class=\"dataframe\">\n",
       "  <thead>\n",
       "    <tr style=\"text-align: right;\">\n",
       "      <th></th>\n",
       "      <th>reg_id</th>\n",
       "      <th>name</th>\n",
       "      <th>salary</th>\n",
       "      <th>position</th>\n",
       "      <th>annual_salary</th>\n",
       "      <th>tax amount</th>\n",
       "      <th>salary amount</th>\n",
       "      <th>latest_salary</th>\n",
       "    </tr>\n",
       "  </thead>\n",
       "  <tbody>\n",
       "    <tr>\n",
       "      <th>0</th>\n",
       "      <td>100</td>\n",
       "      <td>Sankalpa</td>\n",
       "      <td>22000</td>\n",
       "      <td>HOD</td>\n",
       "      <td>264000</td>\n",
       "      <td>2860.0</td>\n",
       "      <td>261140.0</td>\n",
       "      <td>292540.0</td>\n",
       "    </tr>\n",
       "    <tr>\n",
       "      <th>1</th>\n",
       "      <td>101</td>\n",
       "      <td>Shristi</td>\n",
       "      <td>20000</td>\n",
       "      <td>Sub HOD</td>\n",
       "      <td>240000</td>\n",
       "      <td>2600.0</td>\n",
       "      <td>237400.0</td>\n",
       "      <td>266400.0</td>\n",
       "    </tr>\n",
       "    <tr>\n",
       "      <th>2</th>\n",
       "      <td>102</td>\n",
       "      <td>Virat</td>\n",
       "      <td>2000</td>\n",
       "      <td>Manager</td>\n",
       "      <td>24000</td>\n",
       "      <td>260.0</td>\n",
       "      <td>23740.0</td>\n",
       "      <td>31140.0</td>\n",
       "    </tr>\n",
       "    <tr>\n",
       "      <th>3</th>\n",
       "      <td>103</td>\n",
       "      <td>Rohit</td>\n",
       "      <td>5000</td>\n",
       "      <td>Manager</td>\n",
       "      <td>60000</td>\n",
       "      <td>650.0</td>\n",
       "      <td>59350.0</td>\n",
       "      <td>70350.0</td>\n",
       "    </tr>\n",
       "    <tr>\n",
       "      <th>4</th>\n",
       "      <td>104</td>\n",
       "      <td>Samark</td>\n",
       "      <td>5000</td>\n",
       "      <td>Manager</td>\n",
       "      <td>60000</td>\n",
       "      <td>650.0</td>\n",
       "      <td>59350.0</td>\n",
       "      <td>70350.0</td>\n",
       "    </tr>\n",
       "    <tr>\n",
       "      <th>5</th>\n",
       "      <td>105</td>\n",
       "      <td>Shreyas</td>\n",
       "      <td>5000</td>\n",
       "      <td>Receptionist</td>\n",
       "      <td>60000</td>\n",
       "      <td>650.0</td>\n",
       "      <td>59350.0</td>\n",
       "      <td>70350.0</td>\n",
       "    </tr>\n",
       "    <tr>\n",
       "      <th>6</th>\n",
       "      <td>106</td>\n",
       "      <td>Guras</td>\n",
       "      <td>5000</td>\n",
       "      <td>Accountant</td>\n",
       "      <td>60000</td>\n",
       "      <td>650.0</td>\n",
       "      <td>59350.0</td>\n",
       "      <td>70350.0</td>\n",
       "    </tr>\n",
       "    <tr>\n",
       "      <th>7</th>\n",
       "      <td>107</td>\n",
       "      <td>Paras</td>\n",
       "      <td>15000</td>\n",
       "      <td>salesman</td>\n",
       "      <td>180000</td>\n",
       "      <td>1950.0</td>\n",
       "      <td>178050.0</td>\n",
       "      <td>201050.0</td>\n",
       "    </tr>\n",
       "    <tr>\n",
       "      <th>8</th>\n",
       "      <td>108</td>\n",
       "      <td>Pramesh</td>\n",
       "      <td>5000</td>\n",
       "      <td>salesman</td>\n",
       "      <td>60000</td>\n",
       "      <td>650.0</td>\n",
       "      <td>59350.0</td>\n",
       "      <td>70350.0</td>\n",
       "    </tr>\n",
       "    <tr>\n",
       "      <th>9</th>\n",
       "      <td>109</td>\n",
       "      <td>Mohit</td>\n",
       "      <td>5000</td>\n",
       "      <td>salesman</td>\n",
       "      <td>60000</td>\n",
       "      <td>650.0</td>\n",
       "      <td>59350.0</td>\n",
       "      <td>70350.0</td>\n",
       "    </tr>\n",
       "  </tbody>\n",
       "</table>\n",
       "</div>"
      ],
      "text/plain": [
       "   reg_id      name  salary      position  annual_salary  tax amount  \\\n",
       "0     100  Sankalpa   22000           HOD         264000      2860.0   \n",
       "1     101   Shristi   20000       Sub HOD         240000      2600.0   \n",
       "2     102     Virat    2000       Manager          24000       260.0   \n",
       "3     103     Rohit    5000       Manager          60000       650.0   \n",
       "4     104    Samark    5000       Manager          60000       650.0   \n",
       "5     105   Shreyas    5000  Receptionist          60000       650.0   \n",
       "6     106     Guras    5000    Accountant          60000       650.0   \n",
       "7     107     Paras   15000      salesman         180000      1950.0   \n",
       "8     108   Pramesh    5000      salesman          60000       650.0   \n",
       "9     109     Mohit    5000      salesman          60000       650.0   \n",
       "\n",
       "   salary amount  latest_salary  \n",
       "0       261140.0       292540.0  \n",
       "1       237400.0       266400.0  \n",
       "2        23740.0        31140.0  \n",
       "3        59350.0        70350.0  \n",
       "4        59350.0        70350.0  \n",
       "5        59350.0        70350.0  \n",
       "6        59350.0        70350.0  \n",
       "7       178050.0       201050.0  \n",
       "8        59350.0        70350.0  \n",
       "9        59350.0        70350.0  "
      ]
     },
     "execution_count": 19,
     "metadata": {},
     "output_type": "execute_result"
    }
   ],
   "source": [
    "salary_after_inccrement_df = real_salary_df.copy()\n",
    "salary_after_inccrement_df['latest_salary'] = incresed_salary\n",
    "salary_after_inccrement_df"
   ]
  },
  {
   "cell_type": "code",
   "execution_count": 20,
   "metadata": {},
   "outputs": [
    {
     "name": "stdout",
     "output_type": "stream",
     "text": [
      "[[100 'Sankalpa' 22000 'HOD' 264000 2860.0 261140.0 292540.0]\n",
      " [101 'Shristi' 20000 'Sub HOD' 240000 2600.0 237400.0 266400.0]\n",
      " [102 'Virat' 2000 'Manager' 24000 260.0 23740.0 31140.0]\n",
      " [103 'Rohit' 5000 'Manager' 60000 650.0 59350.0 70350.0]\n",
      " [104 'Samark' 5000 'Manager' 60000 650.0 59350.0 70350.0]\n",
      " [105 'Shreyas' 5000 'Receptionist' 60000 650.0 59350.0 70350.0]\n",
      " [106 'Guras' 5000 'Accountant' 60000 650.0 59350.0 70350.0]\n",
      " [107 'Paras' 15000 'salesman' 180000 1950.0 178050.0 201050.0]\n",
      " [108 'Pramesh' 5000 'salesman' 60000 650.0 59350.0 70350.0]\n",
      " [109 'Mohit' 5000 'salesman' 60000 650.0 59350.0 70350.0]]\n"
     ]
    }
   ],
   "source": [
    "data_array = salary_after_inccrement_df.to_numpy()\n",
    "print(data_array)"
   ]
  },
  {
   "cell_type": "code",
   "execution_count": 23,
   "metadata": {},
   "outputs": [
    {
     "data": {
      "image/png": "[encoded data removed]",
      "text/plain": [
       "<Figure size 640x480 with 1 Axes>"
      ]
     },
     "metadata": {},
     "output_type": "display_data"
    }
   ],
   "source": [
    "import matplotlib.pyplot as plt\n",
    "\n",
    "avg_salary = employee_df.groupby('position')['salary'].mean()\n",
    "avg_salary.plot(kind='bar', color='skyblue', title='Average Salary per Position')\n",
    "plt.ylabel('Average Salary')\n",
    "plt.show()"
   ]
  },
  {
   "cell_type": "code",
   "execution_count": null,
   "metadata": {},
   "outputs": [],
   "source": []
  }
 ],
 "metadata": {
  "kernelspec": {
   "display_name": "Python 3",
   "language": "python",
   "name": "python3"
  },
  "language_info": {
   "codemirror_mode": {
    "name": "ipython",
    "version": 3
   },
   "file_extension": ".py",
   "mimetype": "text/x-python",
   "name": "python",
   "nbconvert_exporter": "python",
   "pygments_lexer": "ipython3",
   "version": "3.12.6"
  }
 },
 "nbformat": 4,
 "nbformat_minor": 2
}
