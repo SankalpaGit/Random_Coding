{
 "cells": [
  {
   "cell_type": "code",
   "execution_count": 2,
   "metadata": {},
   "outputs": [
    {
     "data": {
      "text/html": [
       "<div>\n",
       "<style scoped>\n",
       "    .dataframe tbody tr th:only-of-type {\n",
       "        vertical-align: middle;\n",
       "    }\n",
       "\n",
       "    .dataframe tbody tr th {\n",
       "        vertical-align: top;\n",
       "    }\n",
       "\n",
       "    .dataframe thead th {\n",
       "        text-align: right;\n",
       "    }\n",
       "</style>\n",
       "<table border=\"1\" class=\"dataframe\">\n",
       "  <thead>\n",
       "    <tr style=\"text-align: right;\">\n",
       "      <th></th>\n",
       "      <th>players</th>\n",
       "      <th>teams</th>\n",
       "      <th>role</th>\n",
       "      <th>jearsey</th>\n",
       "    </tr>\n",
       "  </thead>\n",
       "  <tbody>\n",
       "    <tr>\n",
       "      <th>0</th>\n",
       "      <td>kohli</td>\n",
       "      <td>RCB</td>\n",
       "      <td>openar</td>\n",
       "      <td>18</td>\n",
       "    </tr>\n",
       "    <tr>\n",
       "      <th>1</th>\n",
       "      <td>dhoni</td>\n",
       "      <td>CSK</td>\n",
       "      <td>finisher</td>\n",
       "      <td>7</td>\n",
       "    </tr>\n",
       "    <tr>\n",
       "      <th>2</th>\n",
       "      <td>rohit</td>\n",
       "      <td>MI</td>\n",
       "      <td>opener</td>\n",
       "      <td>45</td>\n",
       "    </tr>\n",
       "    <tr>\n",
       "      <th>3</th>\n",
       "      <td>rahul</td>\n",
       "      <td>DC</td>\n",
       "      <td>opener</td>\n",
       "      <td>1</td>\n",
       "    </tr>\n",
       "  </tbody>\n",
       "</table>\n",
       "</div>"
      ],
      "text/plain": [
       "  players teams      role  jearsey\n",
       "0   kohli   RCB    openar       18\n",
       "1   dhoni   CSK  finisher        7\n",
       "2   rohit    MI    opener       45\n",
       "3   rahul    DC    opener        1"
      ]
     },
     "execution_count": 2,
     "metadata": {},
     "output_type": "execute_result"
    }
   ],
   "source": [
    "import pandas as pd\n",
    "\n",
    "data={\n",
    "    \"players\": [\"kohli\", \"dhoni\", \"rohit\", \"rahul\"],\n",
    "    \"teams\": [\"RCB\", \"CSK\", \"MI\", \"DC\"],\n",
    "    \"role\": [\"openar\", \"finisher\", \"opener\", \"opener\"],\n",
    "    \"jearsey\": [18, 7, 45, 1]\n",
    "}\n",
    "\n",
    "df= pd.DataFrame(data)\n",
    "df"
   ]
  },
  {
   "cell_type": "code",
   "execution_count": 13,
   "metadata": {},
   "outputs": [
    {
     "data": {
      "text/html": [
       "<div>\n",
       "<style scoped>\n",
       "    .dataframe tbody tr th:only-of-type {\n",
       "        vertical-align: middle;\n",
       "    }\n",
       "\n",
       "    .dataframe tbody tr th {\n",
       "        vertical-align: top;\n",
       "    }\n",
       "\n",
       "    .dataframe thead th {\n",
       "        text-align: right;\n",
       "    }\n",
       "</style>\n",
       "<table border=\"1\" class=\"dataframe\">\n",
       "  <thead>\n",
       "    <tr style=\"text-align: right;\">\n",
       "      <th></th>\n",
       "      <th>players</th>\n",
       "      <th>teams</th>\n",
       "      <th>role</th>\n",
       "      <th>jearsey</th>\n",
       "    </tr>\n",
       "  </thead>\n",
       "  <tbody>\n",
       "    <tr>\n",
       "      <th>0</th>\n",
       "      <td>kohli</td>\n",
       "      <td>RCB</td>\n",
       "      <td>openar</td>\n",
       "      <td>18</td>\n",
       "    </tr>\n",
       "  </tbody>\n",
       "</table>\n",
       "</div>"
      ],
      "text/plain": [
       "  players teams    role  jearsey\n",
       "0   kohli   RCB  openar       18"
      ]
     },
     "execution_count": 13,
     "metadata": {},
     "output_type": "execute_result"
    }
   ],
   "source": [
    "kohli_data = df[df['players'] == 'kohli']\n",
    "kohli_data"
   ]
  },
  {
   "cell_type": "markdown",
   "metadata": {},
   "source": [
    "<p>loc accessor in pandas is used to access a group of rows and columns by labels or a boolean array.</p>"
   ]
  },
  {
   "cell_type": "code",
   "execution_count": 14,
   "metadata": {},
   "outputs": [
    {
     "data": {
      "text/html": [
       "<div>\n",
       "<style scoped>\n",
       "    .dataframe tbody tr th:only-of-type {\n",
       "        vertical-align: middle;\n",
       "    }\n",
       "\n",
       "    .dataframe tbody tr th {\n",
       "        vertical-align: top;\n",
       "    }\n",
       "\n",
       "    .dataframe thead th {\n",
       "        text-align: right;\n",
       "    }\n",
       "</style>\n",
       "<table border=\"1\" class=\"dataframe\">\n",
       "  <thead>\n",
       "    <tr style=\"text-align: right;\">\n",
       "      <th></th>\n",
       "      <th>players</th>\n",
       "      <th>teams</th>\n",
       "    </tr>\n",
       "  </thead>\n",
       "  <tbody>\n",
       "    <tr>\n",
       "      <th>0</th>\n",
       "      <td>kohli</td>\n",
       "      <td>RCB</td>\n",
       "    </tr>\n",
       "  </tbody>\n",
       "</table>\n",
       "</div>"
      ],
      "text/plain": [
       "  players teams\n",
       "0   kohli   RCB"
      ]
     },
     "execution_count": 14,
     "metadata": {},
     "output_type": "execute_result"
    }
   ],
   "source": [
    "kohli_team = df.loc[df['players'] == 'kohli', ['players', 'teams']] \n",
    "kohli_team"
   ]
  },
  {
   "cell_type": "markdown",
   "metadata": {},
   "source": [
    "df['players'] == 'kohli': This creates a boolean series where each row is checked if the players column equals 'kohli'.\n",
    "\n",
    "df.loc[df['players'] == 'kohli', ['players', 'teams']]: The .loc accessor uses this boolean series to filter rows where the condition is True. It then selects the specified columns, which are 'players' and 'teams'."
   ]
  },
  {
   "cell_type": "code",
   "execution_count": 15,
   "metadata": {},
   "outputs": [
    {
     "data": {
      "text/html": [
       "<div>\n",
       "<style scoped>\n",
       "    .dataframe tbody tr th:only-of-type {\n",
       "        vertical-align: middle;\n",
       "    }\n",
       "\n",
       "    .dataframe tbody tr th {\n",
       "        vertical-align: top;\n",
       "    }\n",
       "\n",
       "    .dataframe thead th {\n",
       "        text-align: right;\n",
       "    }\n",
       "</style>\n",
       "<table border=\"1\" class=\"dataframe\">\n",
       "  <thead>\n",
       "    <tr style=\"text-align: right;\">\n",
       "      <th></th>\n",
       "      <th>players</th>\n",
       "      <th>teams</th>\n",
       "    </tr>\n",
       "  </thead>\n",
       "  <tbody>\n",
       "    <tr>\n",
       "      <th>0</th>\n",
       "      <td>kohli</td>\n",
       "      <td>RCB</td>\n",
       "    </tr>\n",
       "    <tr>\n",
       "      <th>1</th>\n",
       "      <td>dhoni</td>\n",
       "      <td>CSK</td>\n",
       "    </tr>\n",
       "    <tr>\n",
       "      <th>2</th>\n",
       "      <td>rohit</td>\n",
       "      <td>MI</td>\n",
       "    </tr>\n",
       "    <tr>\n",
       "      <th>3</th>\n",
       "      <td>rahul</td>\n",
       "      <td>DC</td>\n",
       "    </tr>\n",
       "  </tbody>\n",
       "</table>\n",
       "</div>"
      ],
      "text/plain": [
       "  players teams\n",
       "0   kohli   RCB\n",
       "1   dhoni   CSK\n",
       "2   rohit    MI\n",
       "3   rahul    DC"
      ]
     },
     "execution_count": 15,
     "metadata": {},
     "output_type": "execute_result"
    }
   ],
   "source": [
    "player_team = df[['players', 'teams']]\n",
    "player_team"
   ]
  },
  {
   "cell_type": "code",
   "execution_count": 4,
   "metadata": {},
   "outputs": [],
   "source": [
    "import pandas as pd\n",
    "\n",
    "disease_data = {\n",
    "    'id': [1, 2, 3, 4, 5, 6, 7, 8, 9, 10],\n",
    "    'name': [\"John Doe\", \"Jane Smith\", \"Michael Brown\", \"Sara White\", \"David Lee\", \"Emily Clark\", \"Chris Turner\", \"Nancy Wright\", \"Andrew Hill\", \"Jessica Green\"],\n",
    "    'age': [34, 28, 45, 50, 36, 29, 41, 33, 47, 39],\n",
    "    'gender': [\"M\", \"F\", \"M\", \"F\", \"M\", \"F\", \"M\", \"F\", \"M\", \"F\"],\n",
    "    'disease': [\"Diabetes\", \"Hypertension\", \"Asthma\", \"COPD\", \"Arthritis\", \"Heart Disease\", \"Stroke\", \"Cancer\", \"Obesity\", \"Kidney Disease\"],\n",
    "    'severity': [\"Moderate\", \"Mild\", \"Severe\", \"Moderate\", \"Mild\", \"Severe\", \"Moderate\", \"Mild\", \"Severe\", \"Moderate\"],\n",
    "    'treatment_plan': [\"Insulin\", \"Lifestyle Change\", \"Inhaler\", \"Medication\", \"Physical Therapy\", \"Surgery\", \"Rehabilitation\", \"Chemotherapy\", \"Diet Plan\", \"Dialysis\"],\n",
    "    'doctor_assigned': [\"Dr. Patel\", \"Dr. Johnson\", \"Dr. Smith\", \"Dr. Gupta\", \"Dr. Brown\", \"Dr. Clark\", \"Dr. Lee\", \"Dr. Turner\", \"Dr. Wright\", \"Dr. Green\"],\n",
    "    'admission_date': [\"2023-01-15\", \"2023-02-20\", \"2023-03-10\", \"2023-04-05\", \"2023-05-18\", \"2023-06-22\", \"2023-07-30\", \"2023-08-14\", \"2023-09-25\", \"2023-10-31\"],\n",
    "    'discharge_date': [\"2023-01-25\", \"2023-02-28\", \"2023-03-20\", \"2023-04-12\", \"2023-05-25\", \"2023-06-30\", \"2023-08-05\", \"2023-08-24\", \"2023-10-05\", \"2023-11-10\"]\n",
    "}\n",
    "\n",
    "disease_df = pd.DataFrame(disease_data)"
   ]
  },
  {
   "cell_type": "code",
   "execution_count": 1,
   "metadata": {},
   "outputs": [],
   "source": [
    "import matplotlib.pyplot as plt"
   ]
  },
  {
   "cell_type": "code",
   "execution_count": 5,
   "metadata": {},
   "outputs": [
    {
     "data": {
      "image/png": "[encoded data removed]",
      "text/plain": [
       "<Figure size 1000x600 with 1 Axes>"
      ]
     },
     "metadata": {},
     "output_type": "display_data"
    }
   ],
   "source": [
    "plt.figure(figsize=(10, 6)) \n",
    "disease_counts = disease_df['disease'].value_counts() \n",
    "disease_counts.plot(kind='bar', color='skyblue') \n",
    "\n",
    "plt.title('Disease Count') \n",
    "plt.xlabel('Disease') \n",
    "plt.ylabel('Count') \n",
    "plt.xticks(rotation=45) \n",
    "plt.grid(axis='y')\n",
    "plt.tight_layout()\n",
    "plt.show()"
   ]
  },
  {
   "cell_type": "code",
   "execution_count": 6,
   "metadata": {},
   "outputs": [],
   "source": [
    "# Mapping severity to numeric values for scatter plot \n",
    "severity_mapping = {\"Mild\": 1, \"Moderate\": 2, \"Severe\": 3} \n",
    "disease_df['severity_numeric'] = disease_df['severity'].map(severity_mapping)"
   ]
  },
  {
   "cell_type": "code",
   "execution_count": 9,
   "metadata": {},
   "outputs": [
    {
     "data": {
      "image/png": "[encoded data removed]",
      "text/plain": [
       "<Figure size 1000x600 with 1 Axes>"
      ]
     },
     "metadata": {},
     "output_type": "display_data"
    }
   ],
   "source": [
    "plt.figure(figsize=(10, 6)) \n",
    "scatter = plt.scatter(disease_df['age'], disease_df['severity_numeric'], c=disease_df['severity_numeric'], cmap='viridis',alpha=0.6)"
   ]
  }
 ],
 "metadata": {
  "kernelspec": {
   "display_name": "Python 3",
   "language": "python",
   "name": "python3"
  },
  "language_info": {
   "codemirror_mode": {
    "name": "ipython",
    "version": 3
   },
   "file_extension": ".py",
   "mimetype": "text/x-python",
   "name": "python",
   "nbconvert_exporter": "python",
   "pygments_lexer": "ipython3",
   "version": "3.12.6"
  }
 },
 "nbformat": 4,
 "nbformat_minor": 2
}
